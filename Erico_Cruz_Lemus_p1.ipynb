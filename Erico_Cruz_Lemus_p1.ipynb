{
 "cells": [
  {
   "cell_type": "markdown",
   "metadata": {},
   "source": [
    "# Project 1: Digit Classification with KNN and Naive Bayes"
   ]
  },
  {
   "cell_type": "markdown",
   "metadata": {},
   "source": [
    "In this project, you'll implement your own image recognition system for classifying digits. Read through the code and the instructions carefully and add your own code where indicated. Each problem can be addressed succinctly with the included packages -- please don't add any more. Grading will be based on writing clean, commented code, along with a few short answers.\n",
    "\n",
    "As always, you're welcome to work on the project in groups and discuss ideas on the course wall, but <b> please prepare your own write-up (with your own code). </b>\n",
    "\n",
    "If you're interested, check out these links related to digit recognition:\n",
    "\n",
    "Yann Lecun's MNIST benchmarks: http://yann.lecun.com/exdb/mnist/\n",
    "\n",
    "Stanford Streetview research and data: http://ufldl.stanford.edu/housenumbers/"
   ]
  },
  {
   "cell_type": "code",
   "execution_count": 7,
   "metadata": {},
   "outputs": [],
   "source": [
    "# This tells matplotlib not to try opening a new window for each plot.\n",
    "%matplotlib inline\n",
    "\n",
    "# Import a bunch of libraries.\n",
    "import time\n",
    "import numpy as np\n",
    "import matplotlib.pyplot as plt\n",
    "from matplotlib.ticker import MultipleLocator\n",
    "from sklearn.pipeline import Pipeline\n",
    "from sklearn.datasets import fetch_mldata\n",
    "from sklearn.neighbors import KNeighborsClassifier\n",
    "from sklearn.metrics import confusion_matrix\n",
    "from sklearn.linear_model import LinearRegression\n",
    "from sklearn.naive_bayes import BernoulliNB\n",
    "from sklearn.naive_bayes import MultinomialNB\n",
    "from sklearn.naive_bayes import GaussianNB\n",
    "from sklearn.grid_search import GridSearchCV\n",
    "from sklearn.metrics import classification_report\n",
    "\n",
    "# Set the randomizer seed so results are the same each time.\n",
    "np.random.seed(0)"
   ]
  },
  {
   "cell_type": "markdown",
   "metadata": {},
   "source": [
    "Load the data. Notice that we are splitting the data into training, development, and test. We also have a small subset of the training data called mini_train_data and mini_train_labels that you should use in all the experiments below, unless otherwise noted."
   ]
  },
  {
   "cell_type": "code",
   "execution_count": 8,
   "metadata": {},
   "outputs": [
    {
     "name": "stdout",
     "output_type": "stream",
     "text": [
      "data shape:  (70000, 784)\n",
      "label shape: (70000,)\n"
     ]
    }
   ],
   "source": [
    "# Load the digit data either from mldata.org, or once downloaded to data_home, from disk. The data is about 53MB so this cell\n",
    "# should take a while the first time your run it.\n",
    "mnist = fetch_mldata('MNIST original', data_home='~/datasets/mnist')\n",
    "X, Y = mnist.data, mnist.target\n",
    "\n",
    "# Rescale grayscale values to [0,1].\n",
    "X = X / 255.0\n",
    "\n",
    "# Shuffle the input: create a random permutation of the integers between 0 and the number of data points and apply this\n",
    "# permutation to X and Y.\n",
    "# NOTE: Each time you run this cell, you'll re-shuffle the data, resulting in a different ordering.\n",
    "shuffle = np.random.permutation(np.arange(X.shape[0]))\n",
    "X, Y = X[shuffle], Y[shuffle]\n",
    "\n",
    "print ('data shape: ', X.shape)\n",
    "print ('label shape:', Y.shape)\n",
    "\n",
    "# Set some variables to hold test, dev, and training data.\n",
    "test_data, test_labels = X[61000:], Y[61000:]\n",
    "dev_data, dev_labels = X[60000:61000], Y[60000:61000]\n",
    "train_data, train_labels = X[:60000], Y[:60000]\n",
    "mini_train_data, mini_train_labels = X[:1000], Y[:1000]"
   ]
  },
  {
   "cell_type": "markdown",
   "metadata": {},
   "source": [
    "(1) Create a 10x10 grid to visualize 10 examples of each digit. Python hints:\n",
    "\n",
    "- plt.rc() for setting the colormap, for example to black and white\n",
    "- plt.subplot() for creating subplots\n",
    "- plt.imshow() for rendering a matrix\n",
    "- np.array.reshape() for reshaping a 1D feature vector into a 2D matrix (for rendering)"
   ]
  },
  {
   "cell_type": "code",
   "execution_count": 9,
   "metadata": {},
   "outputs": [
    {
     "data": {
      "image/png": "[encoded data removed]",
      "text/plain": [
       "<Figure size 432x288 with 100 Axes>"
      ]
     },
     "metadata": {},
     "output_type": "display_data"
    }
   ],
   "source": [
    "# convert labels to ints\n",
    "train_labels = train_labels.astype(int)\n",
    "mini_train_labels = mini_train_labels.astype(int)\n",
    "dev_labels = dev_labels.astype(int)\n",
    "test_labels = test_labels.astype(int)\n",
    "\n",
    "def P1(num_examples=10):\n",
    "    d = np.zeros(10).astype(int) # to store number of examples showed for each digit\n",
    "    for i in range(len(train_labels)): \n",
    "        if d[train_labels[i]] < num_examples:\n",
    "            d[train_labels[i]] += 1\n",
    "            pixels = train_data[i,]\n",
    "            pixels = pixels.reshape(28, 28)\n",
    "            plt.subplot(10, num_examples, num_examples*train_labels[i]+d[train_labels[i]])\n",
    "            plt.axis('off')\n",
    "            plt.imshow(pixels, cmap='gray') \n",
    "        if all(j == num_examples for j in d): \n",
    "            plt.show()   \n",
    "            break\n",
    "P1(10)        "
   ]
  },
  {
   "cell_type": "markdown",
   "metadata": {},
   "source": [
    "(2) Evaluate a K-Nearest-Neighbors model with k = [1,3,5,7,9] using the mini training set. Report accuracy on the dev set. For k=1, show precision, recall, and F1 for each label. Which is the most difficult digit?\n",
    "\n",
    "- KNeighborsClassifier() for fitting and predicting\n",
    "- classification_report() for producing precision, recall, F1 results"
   ]
  },
  {
   "cell_type": "code",
   "execution_count": 10,
   "metadata": {},
   "outputs": [
    {
     "name": "stdout",
     "output_type": "stream",
     "text": [
      "Accuracy for k = 1  :  0.888\n",
      "Accuracy for k = 3  :  0.878\n",
      "Accuracy for k = 5  :  0.869\n",
      "Accuracy for k = 7  :  0.865\n",
      "Accuracy for k = 9  :  0.863\n",
      "Classification report for k = 1:\n",
      "             precision    recall  f1-score   support\n",
      "\n",
      "          0       0.91      0.98      0.94        99\n",
      "          1       0.89      1.00      0.94       105\n",
      "          2       0.99      0.79      0.88       102\n",
      "          3       0.77      0.87      0.82        86\n",
      "          4       0.89      0.82      0.85       104\n",
      "          5       0.93      0.84      0.88        91\n",
      "          6       0.94      0.96      0.95        98\n",
      "          7       0.89      0.92      0.90       113\n",
      "          8       0.94      0.88      0.91        96\n",
      "          9       0.78      0.82      0.80       106\n",
      "\n",
      "avg / total       0.89      0.89      0.89      1000\n",
      "\n"
     ]
    }
   ],
   "source": [
    "def P2(k_values):\n",
    "    for k in k_values:\n",
    "        knn = KNeighborsClassifier(k)\n",
    "        knn.fit(mini_train_data, mini_train_labels) \n",
    "        print ('Accuracy for k =', k, ' : ', knn.score(dev_data, dev_labels)) \n",
    "    knn = KNeighborsClassifier(1)\n",
    "    knn.fit(mini_train_data, mini_train_labels) \n",
    "    pred = knn.predict(dev_data) \n",
    "    print ('Classification report for k = 1:')\n",
    "    print (classification_report(dev_labels, pred))\n",
    "    \n",
    "k_values = [1, 3, 5, 7, 9]\n",
    "P2(k_values)"
   ]
  },
  {
   "cell_type": "markdown",
   "metadata": {},
   "source": [
    "ANSWER: The hardest digit is 9, it has the lowest f1-score."
   ]
  },
  {
   "cell_type": "markdown",
   "metadata": {},
   "source": [
    "(3) Using k=1, report dev set accuracy for the training set sizes below. Also, measure the amount of time needed for prediction with each training size.\n",
    "\n",
    "- time.time() gives a wall clock value you can use for timing operations"
   ]
  },
  {
   "cell_type": "code",
   "execution_count": 11,
   "metadata": {},
   "outputs": [
    {
     "name": "stdout",
     "output_type": "stream",
     "text": [
      "Accuracy for size = 100  :  0.72  Fit time:  0.0015690326690673828  Prediction time:  0.09358406066894531\n",
      "Accuracy for size = 200  :  0.786  Fit time:  0.00185394287109375  Prediction time:  0.16475701332092285\n",
      "Accuracy for size = 400  :  0.841  Fit time:  0.0030870437622070312  Prediction time:  0.3363058567047119\n",
      "Accuracy for size = 800  :  0.884  Fit time:  0.005959987640380859  Prediction time:  0.6824538707733154\n",
      "Accuracy for size = 1600  :  0.902  Fit time:  0.015911102294921875  Prediction time:  1.4131920337677002\n",
      "Accuracy for size = 3200  :  0.926  Fit time:  0.05406689643859863  Prediction time:  2.9385929107666016\n",
      "Accuracy for size = 6400  :  0.937  Fit time:  0.19950628280639648  Prediction time:  6.1431639194488525\n",
      "Accuracy for size = 12800  :  0.959  Fit time:  0.6682968139648438  Prediction time:  12.109007835388184\n",
      "Accuracy for size = 25000  :  0.97  Fit time:  2.255868911743164  Prediction time:  23.913665056228638\n"
     ]
    }
   ],
   "source": [
    "def P3(train_sizes, accuracies):\n",
    "    knn = KNeighborsClassifier(1)\n",
    "    for size in train_sizes:\n",
    "        start_time = time.time()\n",
    "        knn.fit(train_data[:size,], train_labels[:size]) \n",
    "        fit_time = time.time() - start_time\n",
    "        start_time = time.time()\n",
    "        accuracies.append(knn.score(dev_data, dev_labels))\n",
    "        print ('Accuracy for size =', size, ' : ', accuracies[-1] , ' Fit time: ', fit_time, ' Prediction time: ', time.time() - start_time) \n",
    "train_sizes = [100, 200, 400, 800, 1600, 3200, 6400, 12800, 25000]\n",
    "accuracies = []\n",
    "P3(train_sizes, accuracies)"
   ]
  },
  {
   "cell_type": "markdown",
   "metadata": {},
   "source": [
    "(4) Fit a regression model that predicts accuracy from training size. What does it predict for n=60000? What's wrong with using regression here? Can you apply a transformation that makes the predictions more reasonable?\n",
    "\n",
    "- Remember that the sklearn fit() functions take an input matrix X and output vector Y. So each input example in X is a vector, even if it contains only a single value."
   ]
  },
  {
   "cell_type": "code",
   "execution_count": 12,
   "metadata": {},
   "outputs": [
    {
     "name": "stdout",
     "output_type": "stream",
     "text": [
      "Predicted accuracy for 60000 train size:  [[1.24307226]]\n"
     ]
    }
   ],
   "source": [
    "def P4():\n",
    "    reg = LinearRegression().fit(np.array(train_sizes).reshape(-1, 1), np.array(accuracies).reshape(-1, 1))\n",
    "    print ('Predicted accuracy for 60000 train size: ', reg.predict(np.array([[60000]])))\n",
    "\n",
    "P4()"
   ]
  },
  {
   "cell_type": "markdown",
   "metadata": {},
   "source": [
    "ANSWER: But accuracy can only be between 0 and 1. To model 0..1 outcome we should try fitting logistic regression."
   ]
  },
  {
   "cell_type": "markdown",
   "metadata": {},
   "source": [
    "Fit a 1-NN and output a confusion matrix for the dev data. Use the confusion matrix to identify the most confused pair of digits, and display a few example mistakes.\n",
    "\n",
    "- confusion_matrix() produces a confusion matrix"
   ]
  },
  {
   "cell_type": "code",
   "execution_count": 13,
   "metadata": {},
   "outputs": [
    {
     "name": "stdout",
     "output_type": "stream",
     "text": [
      "Dev set accuracy for 60000 train size:  0.977\n",
      "Confusion matrix for the dev set: \n",
      "[[ 99   0   0   0   0   0   0   0   0   0]\n",
      " [  0 105   0   0   0   0   0   0   0   0]\n",
      " [  1   0  98   2   0   0   0   1   0   0]\n",
      " [  0   0   0  83   0   1   0   0   1   1]\n",
      " [  0   0   0   0 102   0   0   0   0   2]\n",
      " [  1   0   0   0   0  88   0   0   1   1]\n",
      " [  1   0   0   0   1   0  96   0   0   0]\n",
      " [  0   0   1   0   0   0   0 111   0   1]\n",
      " [  1   0   1   2   0   2   1   0  89   0]\n",
      " [  0   0   0   0   0   0   0   0   0 106]]\n",
      "Mismathces, actual vs predicted: \n"
     ]
    },
    {
     "data": {
      "image/png": "[encoded data removed]",
      "text/plain": [
       "<Figure size 432x288 with 23 Axes>"
      ]
     },
     "metadata": {},
     "output_type": "display_data"
    }
   ],
   "source": [
    "def P5():\n",
    "    knn = KNeighborsClassifier(1)\n",
    "    knn.fit(train_data, train_labels) \n",
    "    pred = knn.predict(dev_data)\n",
    "    print ('Dev set accuracy for 60000 train size: ', np.mean(pred == dev_labels)) \n",
    "    print ('Confusion matrix for the dev set: ')\n",
    "    print (confusion_matrix(dev_labels, pred))\n",
    "    print ('Mismathces, actual vs predicted: ')\n",
    "    subpl = 0\n",
    "    for i in range(len(dev_labels)): \n",
    "        if dev_labels[i] != pred[i]:\n",
    "            pixels = dev_data[i,]\n",
    "            pixels = pixels.reshape(28, 28)\n",
    "            subpl += 1\n",
    "            ax = plt.subplot(4, 6, subpl)\n",
    "            ax.set_title('{} vs {}'.format(dev_labels[i], pred[i]), size=10)\n",
    "            ax.axis('off')\n",
    "            ax.imshow(pixels, cmap='gray') \n",
    "    plt.show() \n",
    "P5()"
   ]
  },
  {
   "cell_type": "markdown",
   "metadata": {},
   "source": [
    "(6) A common image processing technique is to smooth an image by blurring. The idea is that the value of a particular pixel is estimated as the weighted combination of the original value and the values around it. Typically, the blurring is Gaussian -- that is, the weight of a pixel's influence is determined by a Gaussian function over the distance to the relevant pixel.\n",
    "\n",
    "Implement a simplified Gaussian blur by just using the 8 neighboring pixels: the smoothed value of a pixel is a weighted combination of the original value and the 8 neighboring values. Try applying your blur filter in 3 ways:\n",
    "- preprocess the training data but not the dev data\n",
    "- preprocess the dev data but not the training data\n",
    "- preprocess both training and dev data\n",
    "\n",
    "Note that there are Guassian blur filters available, for example in scipy.ndimage.filters. You're welcome to experiment with those, but you are likely to get the best results with the simplified version I described above."
   ]
  },
  {
   "cell_type": "code",
   "execution_count": 15,
   "metadata": {},
   "outputs": [
    {
     "name": "stdout",
     "output_type": "stream",
     "text": [
      "0.979\n",
      "0.957\n",
      "0.978\n"
     ]
    }
   ],
   "source": [
    "from scipy.ndimage.filters import gaussian_filter\n",
    "\n",
    "def P6():\n",
    "    knn = KNeighborsClassifier(1)\n",
    "    # blur train, but not dev\n",
    "    knn.fit(np.apply_along_axis(lambda x: gaussian_filter(x.reshape(28, 28), 1).reshape(784,), 1, train_data), train_labels) \n",
    "    print (knn.score(dev_data, dev_labels))\n",
    "    # blur dev, but not train\n",
    "    knn.fit(train_data, train_labels) \n",
    "    print (knn.score(np.apply_along_axis(lambda x: gaussian_filter(x.reshape(28, 28), 1).reshape(784,), 1, dev_data), dev_labels))\n",
    "    # blur both train and dev\n",
    "    knn.fit(np.apply_along_axis(lambda x: gaussian_filter(x.reshape(28, 28), 1).reshape(784,), 1, train_data), train_labels) \n",
    "    print (knn.score(np.apply_along_axis(lambda x: gaussian_filter(x.reshape(28, 28), 1).reshape(784,), 1, dev_data), dev_labels))\n",
    "\n",
    "P6()"
   ]
  },
  {
   "cell_type": "markdown",
   "metadata": {},
   "source": [
    "ANSWER: Accuracy for blurred train but not dev approach are the highest, and sligthly higher than for unprocessed sets."
   ]
  },
  {
   "cell_type": "markdown",
   "metadata": {},
   "source": [
    "(7) Fit a Naive Bayes classifier and report accuracy on the dev data. Remember that Naive Bayes estimates P(feature|label). While sklearn can handle real-valued features, let's start by mapping the pixel values to either 0 or 1. You can do this as a preprocessing step, or with the binarize argument. With binary-valued features, you can use BernoulliNB. Next try mapping the pixel values to 0, 1, or 2, representing white, grey, or black. This mapping requires MultinomialNB. Does the multi-class version improve the results? Why or why not?"
   ]
  },
  {
   "cell_type": "code",
   "execution_count": 16,
   "metadata": {},
   "outputs": [
    {
     "name": "stdout",
     "output_type": "stream",
     "text": [
      "Accuracy for BernoulliNB:  0.845\n",
      "Accuracy for MultinomialNB:  0.826\n"
     ]
    }
   ],
   "source": [
    "def P7():\n",
    "    # fit NB with mapping pixel values to 0, 1 \n",
    "    BNB = BernoulliNB(binarize=0.5)\n",
    "    BNB.fit(train_data, train_labels)\n",
    "    print ('Accuracy for BernoulliNB: ', BNB.score(dev_data, dev_labels))\n",
    "    # fit NB with mapping pixel values to 0, 1, 2 \n",
    "    MNB = MultinomialNB()\n",
    "    MNB.fit(np.digitize(train_data, [0,1.0/3,2.0/3])-1, train_labels)\n",
    "    print ('Accuracy for MultinomialNB: ', MNB.score(np.digitize(dev_data, [0,1.0/3,2.0/3])-1, dev_labels)) \n",
    "\n",
    "P7()"
   ]
  },
  {
   "cell_type": "markdown",
   "metadata": {},
   "source": [
    "ANSWER: The multi-class version didn't improve the result, accuracy is lower. It might be because additional pixel intensity level doesn't matter since the most important information is the countour of the digit itself."
   ]
  },
  {
   "cell_type": "markdown",
   "metadata": {},
   "source": [
    "(8) Use GridSearchCV to perform a search over values of alpha (the Laplace smoothing parameter) in a Bernoulli NB model. What is the best value for alpha? What is the accuracy when alpha=0? Is this what you'd expect?\n",
    "\n",
    "- Note that GridSearchCV partitions the training data so the results will be a bit different than if you used the dev data for evaluation."
   ]
  },
  {
   "cell_type": "code",
   "execution_count": 17,
   "metadata": {},
   "outputs": [
    {
     "name": "stderr",
     "output_type": "stream",
     "text": [
      "/anaconda3/lib/python3.6/site-packages/sklearn/naive_bayes.py:472: UserWarning: alpha too small will result in numeric errors, setting alpha = 1.0e-10\n",
      "  'setting alpha = %.1e' % _ALPHA_MIN)\n",
      "/anaconda3/lib/python3.6/site-packages/sklearn/naive_bayes.py:472: UserWarning: alpha too small will result in numeric errors, setting alpha = 1.0e-10\n",
      "  'setting alpha = %.1e' % _ALPHA_MIN)\n",
      "/anaconda3/lib/python3.6/site-packages/sklearn/naive_bayes.py:472: UserWarning: alpha too small will result in numeric errors, setting alpha = 1.0e-10\n",
      "  'setting alpha = %.1e' % _ALPHA_MIN)\n",
      "/anaconda3/lib/python3.6/site-packages/sklearn/naive_bayes.py:472: UserWarning: alpha too small will result in numeric errors, setting alpha = 1.0e-10\n",
      "  'setting alpha = %.1e' % _ALPHA_MIN)\n",
      "/anaconda3/lib/python3.6/site-packages/sklearn/naive_bayes.py:472: UserWarning: alpha too small will result in numeric errors, setting alpha = 1.0e-10\n",
      "  'setting alpha = %.1e' % _ALPHA_MIN)\n"
     ]
    },
    {
     "name": "stdout",
     "output_type": "stream",
     "text": [
      "Best params:  {'alpha': 0.0}\n",
      "Dev set accuracy for the best alpha:  0.85\n"
     ]
    },
    {
     "name": "stderr",
     "output_type": "stream",
     "text": [
      "/anaconda3/lib/python3.6/site-packages/sklearn/naive_bayes.py:472: UserWarning: alpha too small will result in numeric errors, setting alpha = 1.0e-10\n",
      "  'setting alpha = %.1e' % _ALPHA_MIN)\n"
     ]
    }
   ],
   "source": [
    "def P8(alphas):\n",
    "    BNB = BernoulliNB(binarize=0.5)\n",
    "    cvBNB = GridSearchCV(BNB, alphas, cv=5, iid=False, n_jobs=-1, refit=True)\n",
    "    cvBNB.fit(train_data, train_labels)\n",
    "    return cvBNB\n",
    "    \n",
    "alphas = {'alpha': [0.0, 0.0001, 0.001, 0.01, 0.1, 0.5, 1.0, 2.0, 10.0]}\n",
    "nb = P8(alphas)\n",
    "\n",
    "print ('Best params: ', nb.best_params_)\n",
    "print ('Dev set accuracy for the best alpha: ', nb.score(dev_data, dev_labels))"
   ]
  },
  {
   "cell_type": "markdown",
   "metadata": {},
   "source": [
    "ANSWER: The best found alpha is 0, in this case no smoothing was applied. The reason why it was chosen is that for such large dataset it might be unnecessary to apply smoothing. The dev set accuracy is slightly higher than in P7 with default alpha=1."
   ]
  },
  {
   "cell_type": "markdown",
   "metadata": {},
   "source": [
    "(9) Try training a model using GuassianNB, which is intended for real-valued features, and evaluate on the dev data. You'll notice that it doesn't work so well. Try to diagnose the problem. You should be able to find a simple fix that returns the accuracy to around the same rate as BernoulliNB. Explain your solution.\n",
    "\n",
    "Hint: examine the parameters estimated by the fit() method, theta\\_ and sigma\\_."
   ]
  },
  {
   "cell_type": "code",
   "execution_count": 30,
   "metadata": {},
   "outputs": [
    {
     "name": "stdout",
     "output_type": "stream",
     "text": [
      "Accuracy for GaussianNB:  0.571\n",
      "[[0. 0. 0. ... 0. 0. 0.]\n",
      " [0. 0. 0. ... 0. 0. 0.]\n",
      " [0. 0. 0. ... 0. 0. 0.]\n",
      " ...\n",
      " [0. 0. 0. ... 0. 0. 0.]\n",
      " [0. 0. 0. ... 0. 0. 0.]\n",
      " [0. 0. 0. ... 0. 0. 0.]]\n",
      "[[1.99394972e-10 1.99394972e-10 1.99394972e-10 ... 1.99394972e-10\n",
      "  1.99394972e-10 1.99394972e-10]\n",
      " [1.99394972e-10 1.99394972e-10 1.99394972e-10 ... 1.99394972e-10\n",
      "  1.99394972e-10 1.99394972e-10]\n",
      " [1.99394972e-10 1.99394972e-10 1.99394972e-10 ... 1.99394972e-10\n",
      "  1.99394972e-10 1.99394972e-10]\n",
      " ...\n",
      " [1.99394972e-10 1.99394972e-10 1.99394972e-10 ... 1.99394972e-10\n",
      "  1.99394972e-10 1.99394972e-10]\n",
      " [1.99394972e-10 1.99394972e-10 1.99394972e-10 ... 1.99394972e-10\n",
      "  1.99394972e-10 1.99394972e-10]\n",
      " [1.99394972e-10 1.99394972e-10 1.99394972e-10 ... 1.99394972e-10\n",
      "  1.99394972e-10 1.99394972e-10]]\n"
     ]
    },
    {
     "ename": "TypeError",
     "evalue": "__init__() got an unexpected keyword argument 'var_smoothing'",
     "output_type": "error",
     "traceback": [
      "\u001b[0;31m---------------------------------------------------------------------------\u001b[0m",
      "\u001b[0;31mTypeError\u001b[0m                                 Traceback (most recent call last)",
      "\u001b[0;32m<ipython-input-30-7e494d69ca4d>\u001b[0m in \u001b[0;36m<module>\u001b[0;34m()\u001b[0m\n\u001b[1;32m      9\u001b[0m     \u001b[0mprint\u001b[0m \u001b[0;34m(\u001b[0m\u001b[0;34m'Accuracy for GaussianNB: '\u001b[0m\u001b[0;34m,\u001b[0m \u001b[0mGNB\u001b[0m\u001b[0;34m.\u001b[0m\u001b[0mscore\u001b[0m\u001b[0;34m(\u001b[0m\u001b[0mdev_data\u001b[0m\u001b[0;34m,\u001b[0m \u001b[0mdev_labels\u001b[0m\u001b[0;34m)\u001b[0m\u001b[0;34m)\u001b[0m\u001b[0;34m\u001b[0m\u001b[0m\n\u001b[1;32m     10\u001b[0m \u001b[0;34m\u001b[0m\u001b[0m\n\u001b[0;32m---> 11\u001b[0;31m \u001b[0mP9\u001b[0m\u001b[0;34m(\u001b[0m\u001b[0;34m)\u001b[0m\u001b[0;34m\u001b[0m\u001b[0m\n\u001b[0m",
      "\u001b[0;32m<ipython-input-30-7e494d69ca4d>\u001b[0m in \u001b[0;36mP9\u001b[0;34m()\u001b[0m\n\u001b[1;32m      5\u001b[0m     \u001b[0mprint\u001b[0m \u001b[0;34m(\u001b[0m\u001b[0mGNB\u001b[0m\u001b[0;34m.\u001b[0m\u001b[0mtheta_\u001b[0m\u001b[0;34m)\u001b[0m\u001b[0;34m\u001b[0m\u001b[0m\n\u001b[1;32m      6\u001b[0m     \u001b[0mprint\u001b[0m \u001b[0;34m(\u001b[0m\u001b[0mGNB\u001b[0m\u001b[0;34m.\u001b[0m\u001b[0msigma_\u001b[0m\u001b[0;34m)\u001b[0m\u001b[0;34m\u001b[0m\u001b[0m\n\u001b[0;32m----> 7\u001b[0;31m     \u001b[0mGNB\u001b[0m \u001b[0;34m=\u001b[0m \u001b[0mGaussianNB\u001b[0m\u001b[0;34m(\u001b[0m\u001b[0mvar_smoothing\u001b[0m\u001b[0;34m=\u001b[0m\u001b[0;36m0.05\u001b[0m\u001b[0;34m)\u001b[0m\u001b[0;34m\u001b[0m\u001b[0m\n\u001b[0m\u001b[1;32m      8\u001b[0m     \u001b[0mGNB\u001b[0m\u001b[0;34m.\u001b[0m\u001b[0mfit\u001b[0m\u001b[0;34m(\u001b[0m\u001b[0mtrain_data\u001b[0m\u001b[0;34m,\u001b[0m \u001b[0mtrain_labels\u001b[0m\u001b[0;34m)\u001b[0m\u001b[0;34m\u001b[0m\u001b[0m\n\u001b[1;32m      9\u001b[0m     \u001b[0mprint\u001b[0m \u001b[0;34m(\u001b[0m\u001b[0;34m'Accuracy for GaussianNB: '\u001b[0m\u001b[0;34m,\u001b[0m \u001b[0mGNB\u001b[0m\u001b[0;34m.\u001b[0m\u001b[0mscore\u001b[0m\u001b[0;34m(\u001b[0m\u001b[0mdev_data\u001b[0m\u001b[0;34m,\u001b[0m \u001b[0mdev_labels\u001b[0m\u001b[0;34m)\u001b[0m\u001b[0;34m)\u001b[0m\u001b[0;34m\u001b[0m\u001b[0m\n",
      "\u001b[0;31mTypeError\u001b[0m: __init__() got an unexpected keyword argument 'var_smoothing'"
     ]
    }
   ],
   "source": [
    "def P9():\n",
    "    GNB = GaussianNB()\n",
    "    GNB.fit(train_data, train_labels)\n",
    "    print ('Accuracy for GaussianNB: ', GNB.score(dev_data, dev_labels))\n",
    "    print (GNB.theta_)\n",
    "    print (GNB.sigma_)\n",
    "    GNB = GaussianNB(var_smoothing=0.05) \n",
    "    GNB.fit(train_data, train_labels)\n",
    "    print ('Accuracy for GaussianNB: ', GNB.score(dev_data, dev_labels))\n",
    "\n",
    "P9()"
   ]
  },
  {
   "cell_type": "markdown",
   "metadata": {},
   "source": [
    "ANSWER: We saw that sigma estimate gets too small, and we tried to change default var_smoothing parameter. The new result is much closer to the BernoulliNB result."
   ]
  },
  {
   "cell_type": "markdown",
   "metadata": {},
   "source": [
    "(10) Because Naive Bayes is a generative model, we can use the trained model to generate digits. Train a BernoulliNB model and then generate a 10x20 grid with 20 examples of each digit. Because you're using a Bernoulli model, each pixel output will be either 0 or 1. How do the generated digits compare to the training digits?\n",
    "\n",
    "- You can use np.random.rand() to generate random numbers from a uniform distribution\n",
    "- The estimated probability of each pixel is stored in feature\\_log\\_prob\\_. You'll need to use np.exp() to convert a log probability back to a probability."
   ]
  },
  {
   "cell_type": "code",
   "execution_count": 31,
   "metadata": {},
   "outputs": [
    {
     "name": "stdout",
     "output_type": "stream",
     "text": [
      "Learned probabilities for each label: \n"
     ]
    },
    {
     "name": "stderr",
     "output_type": "stream",
     "text": [
      "/anaconda3/lib/python3.6/site-packages/sklearn/naive_bayes.py:472: UserWarning: alpha too small will result in numeric errors, setting alpha = 1.0e-10\n",
      "  'setting alpha = %.1e' % _ALPHA_MIN)\n"
     ]
    },
    {
     "data": {
      "image/png": "[encoded data removed]",
      "text/plain": [
       "<Figure size 432x288 with 10 Axes>"
      ]
     },
     "metadata": {},
     "output_type": "display_data"
    },
    {
     "name": "stdout",
     "output_type": "stream",
     "text": [
      "Generated examples for each digit: \n"
     ]
    },
    {
     "data": {
      "image/png": "[encoded data removed]",
      "text/plain": [
       "<Figure size 432x288 with 200 Axes>"
      ]
     },
     "metadata": {},
     "output_type": "display_data"
    }
   ],
   "source": [
    "def P10(num_examples):\n",
    "    BNB = BernoulliNB(alpha=0, binarize=0.5)\n",
    "    BNB.fit(train_data, train_labels)\n",
    "\n",
    "    print ('Learned probabilities for each label: ')\n",
    "    for i in range(10):\n",
    "        pixels = np.exp(BNB.feature_log_prob_[i,])\n",
    "        pixels = pixels.reshape((28, 28))\n",
    "        ax = plt.subplot(1, 10, i+1)\n",
    "        ax.set_title('{}'.format(i), size=10)\n",
    "        ax.axis('off')\n",
    "        ax.imshow(pixels, cmap='gray') \n",
    "    plt.show() \n",
    "    \n",
    "    print ('Generated examples for each digit: ')\n",
    "    for i in range(10):\n",
    "        for j in range(num_examples):\n",
    "            # generate uniform values on [0,1] and see which smaller than learned probabilities, those set to 0, otherwise 1\n",
    "            # here we make generation 5 times to ensure resulting images not too noisy\n",
    "            pixels = (np.random.rand(784)+np.random.rand(784)+np.random.rand(784)+np.random.rand(784)+np.random.rand(784) < 5*np.exp(BNB.feature_log_prob_[i,])).astype(int)\n",
    "            pixels = pixels.reshape((28, 28))\n",
    "            ax = plt.subplot(10, num_examples, num_examples*i+j+1)\n",
    "            ax.axis('off')\n",
    "            ax.imshow(pixels, cmap='gray') \n",
    "    plt.show()\n",
    "    \n",
    "P10(20)"
   ]
  },
  {
   "cell_type": "markdown",
   "metadata": {},
   "source": [
    "ANSWER: The generated digits are similar to the average digit examples with some distortions and noise."
   ]
  },
  {
   "cell_type": "markdown",
   "metadata": {},
   "source": [
    "(11) Remember that a strongly calibrated classifier is rougly 90% accurate when the posterior probability of the predicted class is 0.9. A weakly calibrated classifier is more accurate when the posterior is 90% than when it is 80%. A poorly calibrated classifier has no positive correlation between posterior and accuracy.\n",
    "\n",
    "Train a BernoulliNB model with a reasonable alpha value. For each posterior bucket (think of a bin in a histogram), you want to estimate the classifier's accuracy. So for each prediction, find the bucket the maximum posterior belongs to and update the \"correct\" and \"total\" counters.\n",
    "\n",
    "How would you characterize the calibration for the Naive Bayes model?"
   ]
  },
  {
   "cell_type": "code",
   "execution_count": 32,
   "metadata": {},
   "outputs": [
    {
     "name": "stderr",
     "output_type": "stream",
     "text": [
      "/anaconda3/lib/python3.6/site-packages/sklearn/naive_bayes.py:472: UserWarning: alpha too small will result in numeric errors, setting alpha = 1.0e-10\n",
      "  'setting alpha = %.1e' % _ALPHA_MIN)\n"
     ]
    },
    {
     "name": "stdout",
     "output_type": "stream",
     "text": [
      "p(pred) <= 0.5000000000000 total = 7361 accuracy = 0.870\n",
      "p(pred) <= 0.9000000000000 total = 5556 accuracy = 0.882\n",
      "p(pred) <= 0.9990000000000 total = 6306 accuracy = 0.783\n",
      "p(pred) <= 0.9999900000000 total = 5621 accuracy = 0.831\n",
      "p(pred) <= 0.9999999000000 total = 4962 accuracy = 0.800\n",
      "p(pred) <= 0.9999999990000 total = 6045 accuracy = 0.891\n",
      "p(pred) <= 0.9999999999900 total = 5690 accuracy = 0.931\n",
      "p(pred) <= 0.9999999999999 total = 5945 accuracy = 0.754\n",
      "p(pred) <= 1.0000000000000 total = 12514 accuracy = 0.820\n"
     ]
    }
   ],
   "source": [
    "def P11(buckets, correct, total):\n",
    "    BNB = BernoulliNB(alpha=0, binarize=0.5)\n",
    "    BNB.fit(train_data, train_labels)\n",
    "    for i in range(len(train_labels)):\n",
    "        # identify to which bucket max posterior belongs\n",
    "        ind = np.argmax(np.digitize(max(BNB.predict_proba(train_data[i,].reshape(1, -1))), buckets))-1\n",
    "        total[ind] += 1\n",
    "        if BNB.predict(train_data[i,].reshape(1, -1)) == train_labels[i]:\n",
    "            correct[ind] += 1\n",
    "\n",
    "buckets = [0.5, 0.9, 0.999, 0.99999, 0.9999999, 0.999999999, 0.99999999999, 0.9999999999999, 1.0]\n",
    "correct = [0 for i in buckets]\n",
    "total = [0 for i in buckets]\n",
    "P11(buckets, correct, total)\n",
    "for i in range(len(buckets)):\n",
    "    accuracy = 0.0\n",
    "    if (total[i] > 0): accuracy = correct[i] / total[i]\n",
    "    print ('p(pred) <= %.13f total = %3d accuracy = %.3f' %(buckets[i], total[i], accuracy))"
   ]
  },
  {
   "cell_type": "markdown",
   "metadata": {},
   "source": [
    "ANSWER: We notice that most max posteriors belong to the last bucket, those values are very close 1. The highest accuracy was observed on the 7th bucket (0.9999999990000, 0.9999999999900]."
   ]
  },
  {
   "cell_type": "markdown",
   "metadata": {},
   "source": [
    "(12) EXTRA CREDIT\n",
    "\n",
    "Try designing extra features to see if you can improve the performance of Naive Bayes on the dev set. Here are a few ideas to get you started:\n",
    "- Try summing the pixel values in each row and each column.\n",
    "- Try counting the number of enclosed regions; 8 usually has 2 enclosed regions, 9 usually has 1, and 7 usually has 0.\n",
    "\n",
    "Make sure you comment your code well!"
   ]
  },
  {
   "cell_type": "code",
   "execution_count": 34,
   "metadata": {},
   "outputs": [
    {
     "name": "stdout",
     "output_type": "stream",
     "text": [
      "Accuracy with new features added:  0.843\n"
     ]
    },
    {
     "name": "stderr",
     "output_type": "stream",
     "text": [
      "/anaconda3/lib/python3.6/site-packages/sklearn/naive_bayes.py:472: UserWarning: alpha too small will result in numeric errors, setting alpha = 1.0e-10\n",
      "  'setting alpha = %.1e' % _ALPHA_MIN)\n"
     ]
    }
   ],
   "source": [
    "def P12():\n",
    "    # creating new features\n",
    "    rowSums_train = np.zeros((len(train_labels), 28))\n",
    "    colSums_train = np.zeros((len(train_labels), 28))\n",
    "    rowSums_dev = np.zeros((len(dev_labels), 28))\n",
    "    colSums_dev = np.zeros((len(dev_labels), 28))\n",
    "    for i in range(len(train_labels)):\n",
    "        pixels = train_data[i,].reshape(28,28)\n",
    "        rowSums_train[i,] = pixels.sum(axis=1)\n",
    "        colSums_train[i,] = pixels.sum(axis=0)\n",
    "    for i in range(len(dev_labels)):\n",
    "        pixels = dev_data[i,].reshape(28,28)\n",
    "        rowSums_dev[i,] = pixels.sum(axis=1)\n",
    "        colSums_dev[i,] = pixels.sum(axis=0)\n",
    "    # passing old and new features into classifier\n",
    "    BNB = BernoulliNB(alpha=0, binarize=0.5)\n",
    "    BNB.fit(np.hstack((train_data, rowSums_train, colSums_train)), train_labels)\n",
    "    print ('Accuracy with new features added: ', BNB.score(np.hstack((dev_data, rowSums_dev, colSums_dev)), dev_labels))\n",
    "    \n",
    "P12()"
   ]
  },
  {
   "cell_type": "markdown",
   "metadata": {},
   "source": [
    "ANSWER: As we can see, accuracy didn't improve compared to the old result (0.845)."
   ]
  },
  {
   "cell_type": "code",
   "execution_count": null,
   "metadata": {},
   "outputs": [],
   "source": []
  }
 ],
 "metadata": {
  "kernelspec": {
   "display_name": "Python 3",
   "language": "python",
   "name": "python3"
  },
  "language_info": {
   "codemirror_mode": {
    "name": "ipython",
    "version": 3
   },
   "file_extension": ".py",
   "mimetype": "text/x-python",
   "name": "python",
   "nbconvert_exporter": "python",
   "pygments_lexer": "ipython3",
   "version": "3.6.5"
  }
 },
 "nbformat": 4,
 "nbformat_minor": 1
}
